{
  "nbformat": 4,
  "nbformat_minor": 0,
  "metadata": {
    "colab": {
      "name": "Ajeet's.ipynb",
      "provenance": [],
      "collapsed_sections": [],
      "authorship_tag": "ABX9TyOoMZo/ccSrAGNDCd2NTwWH",
      "include_colab_link": true
    },
    "kernelspec": {
      "name": "python3",
      "display_name": "Python 3"
    }
  },
  "cells": [
    {
      "cell_type": "markdown",
      "metadata": {
        "id": "view-in-github",
        "colab_type": "text"
      },
      "source": [
        "<a href=\"https://colab.research.google.com/github/ajeet-og/python-random-quote/blob/master/Ajeet's.ipynb\" target=\"_parent\"><img src=\"https://colab.research.google.com/assets/colab-badge.svg\" alt=\"Open In Colab\"/></a>"
      ]
    },
    {
      "cell_type": "code",
      "metadata": {
        "id": "3K5KKuEXAvJ1",
        "colab_type": "code",
        "colab": {
          "base_uri": "https://localhost:8080/",
          "height": 68
        },
        "outputId": "7f39f1e7-c535-4514-a8e3-136841293771"
      },
      "source": [
        "#program 1: Finding out the area of a rectangle\n",
        "l=float(input(\"enter the length of the rectangle= \"))\n",
        "b=float(input(\"enter the breadth of the rectangle= \"))\n",
        "area=l*b\n",
        "print(\"area of rectangle is= \",area)\n"
      ],
      "execution_count": null,
      "outputs": [
        {
          "output_type": "stream",
          "text": [
            "enter the length of the rectangle= 8\n",
            "enter the breadth of the rectangle= 6\n",
            "area of rectangle is=  48.0\n"
          ],
          "name": "stdout"
        }
      ]
    },
    {
      "cell_type": "code",
      "metadata": {
        "id": "k-IEDGqWZcwr",
        "colab_type": "code",
        "colab": {}
      },
      "source": [
        ""
      ],
      "execution_count": null,
      "outputs": []
    },
    {
      "cell_type": "code",
      "metadata": {
        "id": "VYq20QonDvbd",
        "colab_type": "code",
        "colab": {
          "base_uri": "https://localhost:8080/",
          "height": 51
        },
        "outputId": "9a13ca50-c88c-41e6-b324-692ebd4e7c3c"
      },
      "source": [
        "#program 2: WAP to accept hight of a person (in cm) and categorise the person according to its hight \n",
        "h=float(input(\"enter the hight of the person in centimeters: \"))\n",
        "if h>150:\n",
        "  print(\"the person is tall\")\n",
        "elif h<150:\n",
        "  print(\"the person is short because dwarf is offensive\")\n",
        "else:\n",
        "  print(\"the person is of average hight\")"
      ],
      "execution_count": null,
      "outputs": [
        {
          "output_type": "stream",
          "text": [
            "enter the hight of the person in centimeters: 60\n",
            "the person is short because dwarf is offensive\n"
          ],
          "name": "stdout"
        }
      ]
    },
    {
      "cell_type": "code",
      "metadata": {
        "id": "o8dIlOBZHkfF",
        "colab_type": "code",
        "colab": {
          "base_uri": "https://localhost:8080/",
          "height": 212
        },
        "outputId": "a761f494-390a-43dd-ca2b-e446da05965a"
      },
      "source": [
        "#program 3: WAP to make simple calculator that reads two numbers and an operator, performs the operation nd prints the result\n",
        "print(\"This is a Simple Calculator\") \n",
        "n1=float(input(\"enter the first number: \"))\n",
        "n2=float(input(\"enter the second number: \"))\n",
        "print(\"addition: +\\n  subtraction: -\\n  multiplication: *\\n  division: /\\n  exponent: **\\n  power: ^\")\n",
        "op=input(\"enter the operator: \")\n",
        "if op=='+':\n",
        "  print(n1,'+',n2, \"=\", n1+n2)\n",
        "elif op=='-':\n",
        "  print(n1,'-',n2, \"=\", n1-n2)\n",
        "elif op=='*':\n",
        "  print(n1,'+',n2, \"=\", n1*n2)\n",
        "elif op=='/':\n",
        "  print(n1,'/',n2, \"=\", n1/n2)\n",
        "elif op=='**':\n",
        "  print(n1,'**',n2, \"=\", n1**n2)\n",
        "elif op=='^':\n",
        "  print(n1,'^',n2, \"=\", n1^n2)\n",
        "else: \n",
        "  print(\"I didnt get a number you said\")"
      ],
      "execution_count": null,
      "outputs": [
        {
          "output_type": "stream",
          "text": [
            "This is a Simple Calculator\n",
            "enter the first number: 5\n",
            "enter the second number: 9\n",
            "addition: +\n",
            "  subtraction: -\n",
            "  multiplication: *\n",
            "  division: /\n",
            "  exponent: **\n",
            "  power: ^\n",
            "enter the operator: *\n",
            "5.0 + 9.0 = 45.0\n"
          ],
          "name": "stdout"
        }
      ]
    },
    {
      "cell_type": "code",
      "metadata": {
        "id": "vk5GChoJMtHe",
        "colab_type": "code",
        "colab": {
          "base_uri": "https://localhost:8080/",
          "height": 176
        },
        "outputId": "4f3f809f-6e5c-44fb-9947-48bf6f4e47de"
      },
      "source": [
        "#program 4: WAP to input the customer ID, Name, number of units consumed by the user and display the bill amount\n",
        "id= input(\"Enter the Customer ID: \")\n",
        "name= input(\"Enter the name of the user: \")\n",
        "u=int(input(\"Enter the number of units consumed by the user: \"))\n",
        "if u<200:\n",
        "  r=1.2*u\n",
        "  if r<100:\n",
        "    print('The bill amount must be greater than ₹100.\\n Current bill amount : ₹',r, sep='')\n",
        "elif u>=200 and u<400:\n",
        "  r=1.5*u\n",
        "elif u>=400 and u<600:\n",
        "  r=1.8*u\n",
        "else:\n",
        "  r=2*u\n",
        "if r>=400:\n",
        "  p=1.15*r\n",
        "print(\"\\nCustomer ID: \",id,\"\\nName: \",name,\"\\nNumber of Units consumed: \",u,\"\\nBill Amount: ₹\",p,sep='')\n",
        "q=p-r\n",
        "if r>=460:\n",
        "  print(\"You have been charged a surcharge of 15%(=₹\",q,\") over your original bill amount since you original bill amount exceeds ₹400\",sep='')"
      ],
      "execution_count": null,
      "outputs": [
        {
          "output_type": "stream",
          "text": [
            "Enter the Customer ID: 20817\n",
            "Enter the name of the user: Ajeet Singh\n",
            "Enter the number of units consumed by the user: 575\n",
            "\n",
            "Customer ID: 20817\n",
            "Name: Ajeet Singh\n",
            "Number of Units consumed: 575\n",
            "Bill Amount: ₹1190.25\n",
            "You have been charged a surcharge of 15%(=₹155.25) over your original bill amount since you original bill amount exceeds ₹400\n"
          ],
          "name": "stdout"
        }
      ]
    },
    {
      "cell_type": "code",
      "metadata": {
        "id": "oQQW2BCpQDAU",
        "colab_type": "code",
        "colab": {
          "base_uri": "https://localhost:8080/",
          "height": 52
        },
        "outputId": "088cc20c-ad42-48ea-9f15-a26bf7b44c24"
      },
      "source": [
        "\n",
        "#program 5: WAP to read an integer, N and print sum of all integers from 1 to N\n",
        "n=int(input(\"Enter the number: \"))\n",
        "s=0\n",
        "for i in range(1,n+1):\n",
        "  s+=i\n",
        "print(\"The sum of integers from 1 to\",n,\"is\",s)"
      ],
      "execution_count": null,
      "outputs": [
        {
          "output_type": "stream",
          "text": [
            "Enter the number: 7\n",
            "The sum of integers from 1 to 7 is 28\n"
          ],
          "name": "stdout"
        }
      ]
    },
    {
      "cell_type": "code",
      "metadata": {
        "id": "_wJsiDu0R4fK",
        "colab_type": "code",
        "colab": {
          "base_uri": "https://localhost:8080/",
          "height": 51
        },
        "outputId": "b5c55129-9cb4-4615-baf4-d47cd2319fba"
      },
      "source": [
        "#\n",
        "num=(input(\"enter a number \")\n",
        "print(num)\n"
      ],
      "execution_count": null,
      "outputs": [
        {
          "output_type": "stream",
          "text": [
            "enter a number yolo\n",
            "yolo\n"
          ],
          "name": "stdout"
        }
      ]
    },
    {
      "cell_type": "code",
      "metadata": {
        "id": "BmoZ6U_OSlOK",
        "colab_type": "code",
        "colab": {
          "base_uri": "https://localhost:8080/",
          "height": 70
        },
        "outputId": "2aea0fc3-b8b2-464a-cbb7-84acd3580eb3"
      },
      "source": [
        "#program 6:Finding factors of a number\n",
        "n=int(input(\"enter a number\"))\n",
        "for i in range(1,n+1):\n",
        "  if(n%i==0):\n",
        "    print(i,end='')\n",
        "print('\\n Total number of factors are',i)"
      ],
      "execution_count": null,
      "outputs": [
        {
          "output_type": "stream",
          "text": [
            "enter a number8\n",
            "1248\n",
            " Total number of factors are 8\n"
          ],
          "name": "stdout"
        }
      ]
    },
    {
      "cell_type": "code",
      "metadata": {
        "id": "KZjKtonhX_7b",
        "colab_type": "code",
        "colab": {
          "base_uri": "https://localhost:8080/",
          "height": 34
        },
        "outputId": "1cbca319-935a-45fb-db91-31a0e46c0835"
      },
      "source": [
        "#ord returns the ASCII value of the character passed\n",
        "ord('a')"
      ],
      "execution_count": null,
      "outputs": [
        {
          "output_type": "execute_result",
          "data": {
            "text/plain": [
              "97"
            ]
          },
          "metadata": {
            "tags": []
          },
          "execution_count": 1
        }
      ]
    },
    {
      "cell_type": "code",
      "metadata": {
        "id": "XVhHUGM8jmTe",
        "colab_type": "code",
        "colab": {
          "base_uri": "https://localhost:8080/",
          "height": 35
        },
        "outputId": "27b22898-faf3-4f73-abb3-dae96d7a98cb"
      },
      "source": [
        "#chr teturns the charater of the ascii value given\n",
        "chr(97)"
      ],
      "execution_count": null,
      "outputs": [
        {
          "output_type": "execute_result",
          "data": {
            "application/vnd.google.colaboratory.intrinsic+json": {
              "type": "string"
            },
            "text/plain": [
              "'a'"
            ]
          },
          "metadata": {
            "tags": []
          },
          "execution_count": 1
        }
      ]
    },
    {
      "cell_type": "markdown",
      "metadata": {
        "id": "LnvsMtZbYbgY",
        "colab_type": "text"
      },
      "source": [
        ""
      ]
    },
    {
      "cell_type": "code",
      "metadata": {
        "id": "CD3aqztKj99S",
        "colab_type": "code",
        "colab": {
          "base_uri": "https://localhost:8080/",
          "height": 70
        },
        "outputId": "6b511c9c-5c3e-48c5-fa0d-85eef2adb92d"
      },
      "source": [
        "#ord ffunction returns the ASCII code\n",
        "msg=input(\"enter message to encode \")\n",
        "print(\"ASCII code for message\")\n",
        "for ch in msg:\n",
        "    print(ord(ch),end = \" \")"
      ],
      "execution_count": null,
      "outputs": [
        {
          "output_type": "stream",
          "text": [
            "enter message to encode happy birthday bro\n",
            "ASCII code for message\n",
            "104 97 112 112 121 32 98 105 114 116 104 100 97 121 32 98 114 111 "
          ],
          "name": "stdout"
        }
      ]
    },
    {
      "cell_type": "code",
      "metadata": {
        "id": "-kbRsdf3lMXD",
        "colab_type": "code",
        "colab": {
          "base_uri": "https://localhost:8080/",
          "height": 52
        },
        "outputId": "43210ddf-016d-4d7e-9241-917490fb1830"
      },
      "source": [
        "#program 7: find if a number is prime on the basis of number of factors\n",
        "c=0\n",
        "n=int(input(\"enter a number \"))\n",
        "for i in range(1,n+1):\n",
        "  if(n%i==0):\n",
        "    c+=1\n",
        "    print(i,end='')\n",
        "if(c==2):\n",
        "  print(\" prime\")\n",
        "else:\n",
        "    print(\" composite\")"
      ],
      "execution_count": null,
      "outputs": [
        {
          "output_type": "stream",
          "text": [
            "enter a number 5\n",
            "15 prime\n"
          ],
          "name": "stdout"
        }
      ]
    },
    {
      "cell_type": "code",
      "metadata": {
        "id": "CkBUGeIvlOEg",
        "colab_type": "code",
        "colab": {
          "base_uri": "https://localhost:8080/",
          "height": 34
        },
        "outputId": "b45bf0e1-a446-4769-e181-821016502170"
      },
      "source": [
        "for i in range(20,0,-2):\n",
        "  print(i,end='')"
      ],
      "execution_count": null,
      "outputs": [
        {
          "output_type": "stream",
          "text": [
            "2018161412108642"
          ],
          "name": "stdout"
        }
      ]
    },
    {
      "cell_type": "code",
      "metadata": {
        "id": "I6PH5fGRpHQX",
        "colab_type": "code",
        "colab": {
          "base_uri": "https://localhost:8080/",
          "height": 52
        },
        "outputId": "282c8e14-5ee8-4ff0-de7d-fd5f9fc78c9c"
      },
      "source": [
        "#program 8: To print n Fibonacci numbers \n",
        "a=0\n",
        "b=1\n",
        "n=int(input(\"enter the limit \"))\n",
        "for i in range(n):\n",
        "  print(a,end='')\n",
        "  c=a+b\n",
        "  a=b\n",
        "  b=c"
      ],
      "execution_count": null,
      "outputs": [
        {
          "output_type": "stream",
          "text": [
            "enter tne limit 7\n",
            "0112358"
          ],
          "name": "stdout"
        }
      ]
    }
  ]
}